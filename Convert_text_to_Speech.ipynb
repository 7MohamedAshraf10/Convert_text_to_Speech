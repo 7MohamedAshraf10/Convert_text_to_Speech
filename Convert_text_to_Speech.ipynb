{
 "cells": [
  {
   "cell_type": "code",
   "execution_count": 1,
   "metadata": {},
   "outputs": [],
   "source": [
    "import pytesseract\n",
    "from PIL import Image\n",
    "from gtts import gTTS\n",
    "import os"
   ]
  },
  {
   "cell_type": "code",
   "execution_count": 2,
   "metadata": {},
   "outputs": [],
   "source": [
    "\n",
    "\n",
    "# Path to the Tesseract executable (change this if necessary)\n",
    "pytesseract.pytesseract.tesseract_cmd = r'C:\\Program Files\\Tesseract-OCR\\tesseract.exe'"
   ]
  },
  {
   "cell_type": "code",
   "execution_count": 3,
   "metadata": {},
   "outputs": [],
   "source": [
    "\n",
    "\n",
    "def recognize_text(image_path):\n",
    "    try:\n",
    "        # Open the image using Pillow\n",
    "        image = Image.open(image_path)\n",
    "        \n",
    "        # Perform text recognition using pytesseract\n",
    "        # recognized_text = pytesseract.image_to_string(image)\n",
    "        recognized_text = pytesseract.image_to_string(image, lang=\"ara\", config='.')\n",
    "        print(\"Text: \", recognized_text)\n",
    "        \n",
    "        return recognized_text\n",
    "    except Exception as e:\n",
    "        print(\"Error:\", e)\n",
    "        return None\n"
   ]
  },
  {
   "cell_type": "code",
   "execution_count": 4,
   "metadata": {},
   "outputs": [],
   "source": [
    "\n",
    "def text_to_speech(text, output_path='output.mp3'):\n",
    "    try:\n",
    "        # Convert text to speech using gTTS\n",
    "        tts = gTTS(text, lang = 'ar')\n",
    "        \n",
    "        # Save the speech as an audio file\n",
    "        tts.save(output_path)\n",
    "        \n",
    "        return output_path\n",
    "    except Exception as e:\n",
    "        print(\"Error:\", e)\n",
    "        return None\n"
   ]
  },
  {
   "cell_type": "code",
   "execution_count": 5,
   "metadata": {},
   "outputs": [
    {
     "name": "stdout",
     "output_type": "stream",
     "text": [
      "Error: [Errno 2] No such file or directory: 'example.png'\n"
     ]
    }
   ],
   "source": [
    "image_path = \"example.png\"  # Change this to your image file path\n",
    "recognized_text = recognize_text(image_path)\n",
    "    \n",
    "if recognized_text:\n",
    "    print(\"Recognized Text:\")\n",
    "    print(recognized_text)\n",
    "        \n",
    "    speech_output = text_to_speech(recognized_text)\n",
    "        \n",
    "    if speech_output:\n",
    "        print(\"Text converted to speech. Saved as:\", speech_output)\n",
    "        os.system(speech_output)  # Play the generated speech"
   ]
  },
  {
   "cell_type": "code",
   "execution_count": null,
   "metadata": {},
   "outputs": [],
   "source": [
    "audio_path='output.mp3'\n"
   ]
  },
  {
   "cell_type": "code",
   "execution_count": null,
   "metadata": {},
   "outputs": [],
   "source": [
    "import playsound\n",
    "playsound.playsound(audio_path, True)\n",
    "    \n"
   ]
  }
 ],
 "metadata": {
  "kernelspec": {
   "display_name": "Python 3",
   "language": "python",
   "name": "python3"
  },
  "language_info": {
   "codemirror_mode": {
    "name": "ipython",
    "version": 3
   },
   "file_extension": ".py",
   "mimetype": "text/x-python",
   "name": "python",
   "nbconvert_exporter": "python",
   "pygments_lexer": "ipython3",
   "version": "3.10.8"
  },
  "orig_nbformat": 4
 },
 "nbformat": 4,
 "nbformat_minor": 2
}
